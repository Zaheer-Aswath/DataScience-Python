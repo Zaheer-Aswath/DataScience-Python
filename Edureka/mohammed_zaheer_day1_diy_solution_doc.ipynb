{
  "nbformat": 4,
  "nbformat_minor": 0,
  "metadata": {
    "colab": {
      "provenance": [],
      "authorship_tag": "ABX9TyNSS1SfCHX71Ee+aLm2/EGZ",
      "include_colab_link": true
    },
    "kernelspec": {
      "name": "python3",
      "display_name": "Python 3"
    },
    "language_info": {
      "name": "python"
    }
  },
  "cells": [
    {
      "cell_type": "markdown",
      "metadata": {
        "id": "view-in-github",
        "colab_type": "text"
      },
      "source": [
        "<a href=\"https://colab.research.google.com/github/Zaheer-Aswath/DataScience-Python/blob/main/Edureka/mohammed_zaheer_day1_diy_solution_doc.ipynb\" target=\"_parent\"><img src=\"https://colab.research.google.com/assets/colab-badge.svg\" alt=\"Open In Colab\"/></a>"
      ]
    },
    {
      "cell_type": "markdown",
      "source": [
        "\"\"\"Write a Python program to print “Hello World!”.\"\"\"\n"
      ],
      "metadata": {
        "id": "QtKvQ_iKv6-K"
      }
    },
    {
      "cell_type": "code",
      "source": [
        "print(\"Hello World!\")"
      ],
      "metadata": {
        "colab": {
          "base_uri": "https://localhost:8080/"
        },
        "id": "c-ddpLpWv8wJ",
        "outputId": "17fca1f4-5342-402e-bbb4-4fcb5fb2de23"
      },
      "execution_count": null,
      "outputs": [
        {
          "output_type": "stream",
          "name": "stdout",
          "text": [
            "Hello World!\n"
          ]
        }
      ]
    },
    {
      "cell_type": "markdown",
      "source": [
        "\"\"\"Write a Python program to create two variables, assign integer values to them and add them using the “+” operator to store the result in another variable and print it.\"\"\""
      ],
      "metadata": {
        "id": "raVIUk4dv7D0"
      }
    },
    {
      "cell_type": "code",
      "source": [
        "a=5\n",
        "b=10\n",
        "c=a+b\n",
        "print(\"the result of addition is\",c)"
      ],
      "metadata": {
        "colab": {
          "base_uri": "https://localhost:8080/"
        },
        "id": "MTmFgTR0wAeI",
        "outputId": "9a563180-afb0-43c8-a782-d2f698e9c943"
      },
      "execution_count": null,
      "outputs": [
        {
          "output_type": "stream",
          "name": "stdout",
          "text": [
            "the result of addition is 15\n"
          ]
        }
      ]
    },
    {
      "cell_type": "markdown",
      "source": [
        "\"\"\"Write a Python program to create two variables, assign random values to them and add them using the “+” operator to store the result in another variable and print it.\"\"\""
      ],
      "metadata": {
        "id": "ftJk01B4wBZc"
      }
    },
    {
      "cell_type": "code",
      "source": [
        "a=\"jagan\"\n",
        "b=\"20\"\n",
        "c=a+b\n",
        "print(c)"
      ],
      "metadata": {
        "colab": {
          "base_uri": "https://localhost:8080/"
        },
        "id": "v9sx4QFiwDmw",
        "outputId": "889d982c-6c61-49ca-a455-82c6d9c0018f"
      },
      "execution_count": null,
      "outputs": [
        {
          "output_type": "stream",
          "name": "stdout",
          "text": [
            "jagan20\n"
          ]
        }
      ]
    }
  ]
}
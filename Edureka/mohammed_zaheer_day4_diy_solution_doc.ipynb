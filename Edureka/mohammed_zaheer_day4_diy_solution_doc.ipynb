{
  "nbformat": 4,
  "nbformat_minor": 0,
  "metadata": {
    "colab": {
      "provenance": [],
      "authorship_tag": "ABX9TyNOfeOLqDKP72EJ5tNVFrVF",
      "include_colab_link": true
    },
    "kernelspec": {
      "name": "python3",
      "display_name": "Python 3"
    },
    "language_info": {
      "name": "python"
    }
  },
  "cells": [
    {
      "cell_type": "markdown",
      "metadata": {
        "id": "view-in-github",
        "colab_type": "text"
      },
      "source": [
        "<a href=\"https://colab.research.google.com/github/Zaheer-Aswath/DataScience-Python/blob/main/Edureka/mohammed_zaheer_day4_diy_solution_doc.ipynb\" target=\"_parent\"><img src=\"https://colab.research.google.com/assets/colab-badge.svg\" alt=\"Open In Colab\"/></a>"
      ]
    },
    {
      "cell_type": "markdown",
      "source": [
        "Write a Python program with a user-defined function that takes two integers as input, dividend, and divisor. Print the quotient and the remainder of the two numbers by dividing them using the “//” and “%” operators"
      ],
      "metadata": {
        "id": "WjohlkpXuzjG"
      }
    },
    {
      "cell_type": "code",
      "source": [
        "x=int(input(\"Enter the Dividend:\" ))\n",
        "y=int(input(\"Enter the Divisor:\" ))\n",
        "def quot_divid(x,y):\n",
        "  return x//y\n",
        "Quot=quot_divid(x,y)\n",
        "print(\"Quotient: \", Quot)\n",
        "def remain_divis(x,y):\n",
        "  return x%y\n",
        "Remain=remain_divis(x,y)\n",
        "print(\"Remainder: \", Remain)"
      ],
      "metadata": {
        "colab": {
          "base_uri": "https://localhost:8080/"
        },
        "id": "hHCPaH2Fvbt-",
        "outputId": "1a33ebbc-b064-4e90-bea8-dbbf8d454bb8"
      },
      "execution_count": null,
      "outputs": [
        {
          "output_type": "stream",
          "name": "stdout",
          "text": [
            "Enter the Dividend:25\n",
            "Enter the Divisor:5\n",
            "Quotient:  5\n",
            "Remainder:  0\n"
          ]
        }
      ]
    },
    {
      "cell_type": "markdown",
      "source": [
        "Write a program in Python to calculate simple interest using the lambda function. Hint: Simple interest = (P * R * T)/100, where P is the principal amount, R is the rate, and T is the time/number of years."
      ],
      "metadata": {
        "id": "BSHYziBx4Lyb"
      }
    },
    {
      "cell_type": "code",
      "source": [
        "p=int(input(\"Enter the principal amount:\" ))\n",
        "t=int(input(\"Enter the time(no.of years):\" ))\n",
        "r=int(input(\"Enter the rate of interest:\" ))\n",
        "interest_amount = lambda p,t,r : (p*t*r)/100\n",
        "print(\"The simple interest is: \",interest_amount(p,t,r))"
      ],
      "metadata": {
        "colab": {
          "base_uri": "https://localhost:8080/"
        },
        "id": "hAjW_Kz64Ytl",
        "outputId": "f37f5cb6-1161-4f72-d255-b7255eec9f2d"
      },
      "execution_count": null,
      "outputs": [
        {
          "output_type": "stream",
          "name": "stdout",
          "text": [
            "Enter the principal amount:40000\n",
            "Enter the time(no.of years):5\n",
            "Enter the rate of interest:8\n",
            "The simple interest is:  16000.0\n"
          ]
        }
      ]
    }
  ]
}
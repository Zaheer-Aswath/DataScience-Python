{
  "nbformat": 4,
  "nbformat_minor": 0,
  "metadata": {
    "colab": {
      "provenance": [],
      "authorship_tag": "ABX9TyM0SaqEpZE57mJXoWGFF/nB",
      "include_colab_link": true
    },
    "kernelspec": {
      "name": "python3",
      "display_name": "Python 3"
    },
    "language_info": {
      "name": "python"
    }
  },
  "cells": [
    {
      "cell_type": "markdown",
      "metadata": {
        "id": "view-in-github",
        "colab_type": "text"
      },
      "source": [
        "<a href=\"https://colab.research.google.com/github/Zaheer-Aswath/DataScience-Python/blob/main/Edureka/mohammed_zaheer_day3_diy_solution_doc.ipynb\" target=\"_parent\"><img src=\"https://colab.research.google.com/assets/colab-badge.svg\" alt=\"Open In Colab\"/></a>"
      ]
    },
    {
      "cell_type": "markdown",
      "source": [
        "Write a Python program that takes a character as input from the user and prints whether the character entered by the user is a vowel or a consonant."
      ],
      "metadata": {
        "id": "O0W5ms86UrnM"
      }
    },
    {
      "cell_type": "code",
      "source": [
        "char=input(\"Hello user, Please enter a character:\")\n",
        "if char=='a' or 'A':\n",
        "   print(char,\" is a vowel\")\n",
        "elif char=='e' or 'E':\n",
        "   print(char,\" is a vowel\")\n",
        "elif char=='i' or 'I':\n",
        "   print(char,\" is a vowel\")\n",
        "elif char=='o' or 'O':\n",
        "   print(char,\" is a vowel\")\n",
        "elif char=='u' or 'U':\n",
        "   print(char,\" is a vowel\")\n",
        "else:\n",
        "   print(char,\" is a consonant\")"
      ],
      "metadata": {
        "colab": {
          "base_uri": "https://localhost:8080/"
        },
        "id": "0ap1Z8z_UtNm",
        "outputId": "da7b488f-a830-4494-af83-14261ac57f82"
      },
      "execution_count": null,
      "outputs": [
        {
          "output_type": "stream",
          "name": "stdout",
          "text": [
            "Hello user, Please enter a character:U\n",
            "U  is a vowel\n"
          ]
        }
      ]
    },
    {
      "cell_type": "code",
      "source": [
        "#alternative method\n",
        "char=input(\"Hello user, Please enter a character:\")\n",
        "if (char=='a' or char==\"e\" or char==\"i\" or char==\"o\" or char==\"u\" or char==\"A\" or char==\"E\" or char==\"I\" or char==\"O\" or char==\"U\"):\n",
        "  print(char,\" is a vowel\")\n",
        "else:\n",
        "   print(char,\" is a consonant\")"
      ],
      "metadata": {
        "colab": {
          "base_uri": "https://localhost:8080/"
        },
        "id": "H214hSOoecvN",
        "outputId": "098ec5de-80f1-41ad-a34c-b6ef7ec287ac"
      },
      "execution_count": null,
      "outputs": [
        {
          "output_type": "stream",
          "name": "stdout",
          "text": [
            "Hello user, Please enter a character:S\n",
            "S  is a consonant\n"
          ]
        }
      ]
    },
    {
      "cell_type": "markdown",
      "source": [],
      "metadata": {
        "id": "PPyxyJVhhLTE"
      }
    },
    {
      "cell_type": "markdown",
      "source": [
        "Write a Python program that takes an integer as input and prints a multiplication\n",
        "table from 1 to 10."
      ],
      "metadata": {
        "id": "DNT-NKtGhGuw"
      }
    },
    {
      "cell_type": "code",
      "source": [
        "x=int(input(\"please enter number from 1 to 10: \"))\n",
        "print(\"the multiplication table from 1 to 10 of\",x,\"is\")\n",
        "for i in range(1,11):\n",
        "  print(x,\"*\",i,\"=\",x*i)"
      ],
      "metadata": {
        "colab": {
          "base_uri": "https://localhost:8080/"
        },
        "id": "09KdU6W4hIMp",
        "outputId": "a6adc3d4-96fd-4be6-ac19-86bcc0cc11b3"
      },
      "execution_count": null,
      "outputs": [
        {
          "output_type": "stream",
          "name": "stdout",
          "text": [
            "please enter number from 1 to 10: 8\n",
            "the multiplication table from 1 to 10 of 8 is\n",
            "8 * 1 = 8\n",
            "8 * 2 = 16\n",
            "8 * 3 = 24\n",
            "8 * 4 = 32\n",
            "8 * 5 = 40\n",
            "8 * 6 = 48\n",
            "8 * 7 = 56\n",
            "8 * 8 = 64\n",
            "8 * 9 = 72\n",
            "8 * 10 = 80\n"
          ]
        }
      ]
    }
  ]
}
{
  "nbformat": 4,
  "nbformat_minor": 0,
  "metadata": {
    "colab": {
      "provenance": [],
      "authorship_tag": "ABX9TyOVYBSwElXSNz9aEPQJsPNm",
      "include_colab_link": true
    },
    "kernelspec": {
      "name": "python3",
      "display_name": "Python 3"
    },
    "language_info": {
      "name": "python"
    }
  },
  "cells": [
    {
      "cell_type": "markdown",
      "metadata": {
        "id": "view-in-github",
        "colab_type": "text"
      },
      "source": [
        "<a href=\"https://colab.research.google.com/github/Zaheer-Aswath/DataScience-Python/blob/main/Edureka/mohammed_zaheer_day7_diy_solution_doc.ipynb\" target=\"_parent\"><img src=\"https://colab.research.google.com/assets/colab-badge.svg\" alt=\"Open In Colab\"/></a>"
      ]
    },
    {
      "cell_type": "markdown",
      "source": [
        "**Q1. Problem Statement: Understanding Array Functions**\n",
        "\n",
        "Write a Python program that takes the speeds of any vehicle to store it in a NumPy array and calculates the average speed.\n",
        "\n",
        "**Note:** Use NumPy functions to get the desired output."
      ],
      "metadata": {
        "id": "Nb3kfZJVhEv8"
      }
    },
    {
      "cell_type": "code",
      "source": [
        "import numpy as np\n",
        "my_list=[]        #creating empty list to add speeds of vehicle\n",
        "n=int(input(\"What number of speeds you want to enter?\" )) #no.of vehicle speeds\n",
        "for i in range(0,n): # loop to get as per n number\n",
        "  speed=int(input(\"Enter the speeds in Km/hr:\"))\n",
        "  my_list.append(speed) # appending speed in empty list\n",
        "#print(my_list)  #to verify values entered in list\n",
        "arr_speed=np.array(my_list) # changing the list values into array\n",
        "#print(arr_speed) #to verify values changed in array\n",
        "average_speed=np.mean(arr_speed) #np.mean() used to get the average value from array\n",
        "print(\"The Average speed is:\",average_speed,\"Km/hr\")"
      ],
      "metadata": {
        "colab": {
          "base_uri": "https://localhost:8080/"
        },
        "id": "wAjXdb1mhPHu",
        "outputId": "c86fa298-8f75-4564-abb3-22c70d8a8be2"
      },
      "execution_count": null,
      "outputs": [
        {
          "output_type": "stream",
          "name": "stdout",
          "text": [
            "What number of speeds you want to enter?5\n",
            "Enter the speeds in Km/hr:92\n",
            "Enter the speeds in Km/hr:76\n",
            "Enter the speeds in Km/hr:83\n",
            "Enter the speeds in Km/hr:78\n",
            "Enter the speeds in Km/hr:84\n",
            "The Average speed is: 82.6 Km/hr\n"
          ]
        }
      ]
    },
    {
      "cell_type": "markdown",
      "source": [
        "**Q2. Problem Statement: Array Indexing/Slicing**\n",
        "\n",
        "Write a Python program to generate a 3-D array with integers of your choice, perform indexing, and print the first two rows and last two columns of the array.\n",
        "\n",
        "**Note:** Use NumPy arange() function to generate a random array.\n",
        "\n",
        "**Input Format:** You do not need to read any input in this problem."
      ],
      "metadata": {
        "id": "7xJtUcttwDPM"
      }
    },
    {
      "cell_type": "code",
      "source": [
        "import numpy as np\n",
        "arr=np.arange(20).reshape(5,4)\n",
        "#arr=np.random.randint(0,20,(5,4)) # for random elements in array\n",
        "print(arr)\n",
        "first_two_rows = arr[0:2] #here 0 is row(from) and 2 is row excluded i.e row 1\n",
        "print(first_two_rows)\n",
        "last_two_columns = arr[0:5,2:4] #here 0:5 is row(from) and 2:4 is column\n",
        "print(last_two_columns)"
      ],
      "metadata": {
        "colab": {
          "base_uri": "https://localhost:8080/"
        },
        "id": "xa56mCv9wPxF",
        "outputId": "4d694281-6522-4f8c-c8e7-6fd656fe74a5"
      },
      "execution_count": null,
      "outputs": [
        {
          "output_type": "stream",
          "name": "stdout",
          "text": [
            "[[ 0  1  2  3]\n",
            " [ 4  5  6  7]\n",
            " [ 8  9 10 11]\n",
            " [12 13 14 15]\n",
            " [16 17 18 19]]\n",
            "[[0 1 2 3]\n",
            " [4 5 6 7]]\n",
            "[[ 2  3]\n",
            " [ 6  7]\n",
            " [10 11]\n",
            " [14 15]\n",
            " [18 19]]\n"
          ]
        }
      ]
    }
  ]
}
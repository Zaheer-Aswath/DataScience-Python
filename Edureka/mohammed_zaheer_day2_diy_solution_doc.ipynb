{
  "nbformat": 4,
  "nbformat_minor": 0,
  "metadata": {
    "colab": {
      "provenance": [],
      "include_colab_link": true
    },
    "kernelspec": {
      "name": "python3",
      "display_name": "Python 3"
    },
    "language_info": {
      "name": "python"
    }
  },
  "cells": [
    {
      "cell_type": "markdown",
      "metadata": {
        "id": "view-in-github",
        "colab_type": "text"
      },
      "source": [
        "<a href=\"https://colab.research.google.com/github/Zaheer-Aswath/DataScience-Python/blob/main/Edureka/mohammed_zaheer_day2_diy_solution_doc.ipynb\" target=\"_parent\"><img src=\"https://colab.research.google.com/assets/colab-badge.svg\" alt=\"Open In Colab\"/></a>"
      ]
    },
    {
      "cell_type": "markdown",
      "source": [
        "Write  a  Python  program  that  takes  marks  as  input  for  six  subjects, with maximum  marks   being  600, and prints  total  marks,  average  marks,  and percentagesobtained by a student."
      ],
      "metadata": {
        "id": "sFF_24mDleHC"
      }
    },
    {
      "cell_type": "code",
      "source": [
        "subject1=int(input(\"enter sub1 marks:\"))\n",
        "subject2=int(input(\"enter sub2 marks:\"))\n",
        "subject3=int(input(\"enter sub3 marks:\"))\n",
        "subject4=int(input(\"enter sub4 marks:\"))\n",
        "subject5=int(input(\"enter sub5 marks:\"))\n",
        "subject6=int(input(\"enter sub6 marks:\"))\n",
        "total_marks=subject1+subject2+subject3+subject4+subject5+subject6\n",
        "average=total_marks/6\n",
        "percentage=(total_marks/600)*100\n",
        "print(\"the total marks is\",total_marks)\n",
        "print(\"average is\",average)\n",
        "print(\"percentage is\",percentage)"
      ],
      "metadata": {
        "colab": {
          "base_uri": "https://localhost:8080/"
        },
        "id": "JxIgWFr5lgQF",
        "outputId": "8722a1c6-8f8a-4909-8528-bf29254eba92"
      },
      "execution_count": null,
      "outputs": [
        {
          "output_type": "stream",
          "name": "stdout",
          "text": [
            "enter sub1 marks:69\n",
            "enter sub2 marks:88\n",
            "enter sub3 marks:88\n",
            "enter sub4 marks:99\n",
            "enter sub5 marks:58\n",
            "enter sub6 marks:55\n",
            "the total marks is 457\n",
            "average is 76.16666666666667\n",
            "percentage is 76.16666666666667\n"
          ]
        }
      ]
    },
    {
      "cell_type": "markdown",
      "source": [
        "Declare  a  nested  list  with  Exam  scores  and  Student  names  as  shown  here -\"score=[[510, 'John'],[280, 'Lucy']......]\".Write a Python program to  sort  the  list  based  on  scores  and  print  the  students'  names  with  first  and second-highest scores"
      ],
      "metadata": {
        "id": "icRxQ_EQsesL"
      }
    },
    {
      "cell_type": "code",
      "source": [
        "students=[[600,'anil'],[500,'lema'],[700,'zak'],[400,'joy']]\n",
        "students.sort()\n",
        "print(\"students score as per sorting is:\",students)\n",
        "students.reverse()\n",
        "print(\"students score as per sorting is:\",students)\n",
        "print(\"student with first highest mark is\",students[0][1])\n",
        "print(\"student with second highest mark is\",students[1][1])"
      ],
      "metadata": {
        "colab": {
          "base_uri": "https://localhost:8080/"
        },
        "id": "Ux_NCtOVsfrI",
        "outputId": "40536599-a419-4c5b-c2a5-10805570a86a"
      },
      "execution_count": null,
      "outputs": [
        {
          "output_type": "stream",
          "name": "stdout",
          "text": [
            "students score as per sorting is: [[400, 'joy'], [500, 'lema'], [600, 'anil'], [700, 'zak']]\n",
            "students score as per sorting is: [[700, 'zak'], [600, 'anil'], [500, 'lema'], [400, 'joy']]\n",
            "student with first highest mark is zak\n",
            "student with second highest mark is anil\n"
          ]
        }
      ]
    }
  ]
}
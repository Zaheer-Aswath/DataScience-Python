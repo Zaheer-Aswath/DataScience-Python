{
  "nbformat": 4,
  "nbformat_minor": 0,
  "metadata": {
    "colab": {
      "provenance": [],
      "authorship_tag": "ABX9TyNnk5LFaOE03sg/ST1SoDi3",
      "include_colab_link": true
    },
    "kernelspec": {
      "name": "python3",
      "display_name": "Python 3"
    },
    "language_info": {
      "name": "python"
    }
  },
  "cells": [
    {
      "cell_type": "markdown",
      "metadata": {
        "id": "view-in-github",
        "colab_type": "text"
      },
      "source": [
        "<a href=\"https://colab.research.google.com/github/Zaheer-Aswath/DataScience-Python/blob/main/Edureka/mohammed_zaheer_day10_diy_solution_doc.ipynb\" target=\"_parent\"><img src=\"https://colab.research.google.com/assets/colab-badge.svg\" alt=\"Open In Colab\"/></a>"
      ]
    },
    {
      "cell_type": "markdown",
      "source": [
        "**Q1. Problem Statement: Creating Pandas Series**  \n",
        "\n",
        "Write a Python program to create two lists - one for countries and another for country codes. Create a pandas series from these two lists with the codes as the index. Print the length, shape, and size of the series too.\n",
        "\n",
        "**Input Format:** You do not need to read any input in this problem."
      ],
      "metadata": {
        "id": "OGlENU1C-4RW"
      }
    },
    {
      "cell_type": "code",
      "source": [
        "import pandas as pd\n",
        "\n",
        "## Pandas series: syntax = pd.Series(data,index=index)\n",
        "\n",
        "countries = ['India','Canada','Australia','Japan','Germany','France']\n",
        "country_code = ['IND','CAN','AUS','JAP','GER','FRA']\n",
        "##Test1 = pd.Series(countries)\n",
        "##print(Test1) # printing with list in countries with default index like 0,1..\n",
        "correct_ans = pd.Series(countries, index = country_code)\n",
        "print(correct_ans)\n",
        "print('Length of series is:',len(correct_ans))\n",
        "print('Shape of series is:',correct_ans.shape)\n",
        "print('Size of the Series is:', correct_ans.size)"
      ],
      "metadata": {
        "colab": {
          "base_uri": "https://localhost:8080/"
        },
        "id": "YY1tE0T8_KjC",
        "outputId": "1a18f087-0608-40cf-dd11-0990dc8ac734"
      },
      "execution_count": null,
      "outputs": [
        {
          "output_type": "stream",
          "name": "stdout",
          "text": [
            "IND        India\n",
            "CAN       Canada\n",
            "AUS    Australia\n",
            "JAP        Japan\n",
            "GER      Germany\n",
            "FRA       France\n",
            "dtype: object\n",
            "Length of series is: 6\n",
            "Shape of series is: (6,)\n",
            "Size of the Series is: 6\n"
          ]
        }
      ]
    },
    {
      "cell_type": "markdown",
      "source": [
        "**Q2. Problem Statement: Creating Pandas DataFrame**\n",
        "\n",
        "Write a Python program that reads Name, Age, and Roll no. as input from the user and stores it into a DataFrame, and prints the DataFrame you have created."
      ],
      "metadata": {
        "id": "SR0FFC6hC7jJ"
      }
    },
    {
      "cell_type": "code",
      "source": [
        "import pandas as pd\n",
        "\n",
        "## Pandas dataframe: syntax = pd.DataFrame(data,index=index)\n",
        "student=[]\n",
        "n = int(input(\"Enter the name of the Student records you want to store: \" ))\n",
        "for i in range(n):\n",
        "  tempdict={}\n",
        "  tempdict['Name'] = input(\"Enter the Name of the student: \")\n",
        "  tempdict['Age'] = int(input(\"Enter the Age of the student in years: \"))\n",
        "  tempdict['Roll No.'] = int(input(\"Enter the Roll no. of the student: \"))\n",
        "  student.append(tempdict)\n",
        "#print(student)\n",
        "\n",
        "df = pd.DataFrame(student)\n",
        "print(df)"
      ],
      "metadata": {
        "colab": {
          "base_uri": "https://localhost:8080/"
        },
        "id": "b9snKGWtDYdg",
        "outputId": "84ed1f26-07bf-4884-ce66-f11a0171fd20"
      },
      "execution_count": null,
      "outputs": [
        {
          "output_type": "stream",
          "name": "stdout",
          "text": [
            "Enter the name of the Student records you want to store: 2\n",
            "Enter the Name of the student: Shubham\n",
            "Enter the Age of the student in years: 9\n",
            "Enter the Roll no. of the student: 56\n",
            "Enter the Name of the student: Harshit\n",
            "Enter the Age of the student in years: 8\n",
            "Enter the Roll no. of the student: 34\n",
            "      Name  Age  Roll No.\n",
            "0  Shubham    9        56\n",
            "1  Harshit    8        34\n"
          ]
        }
      ]
    }
  ]
}
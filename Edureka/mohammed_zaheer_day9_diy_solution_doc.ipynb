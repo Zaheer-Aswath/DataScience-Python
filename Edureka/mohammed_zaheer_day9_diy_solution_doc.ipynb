{
  "nbformat": 4,
  "nbformat_minor": 0,
  "metadata": {
    "colab": {
      "provenance": [],
      "authorship_tag": "ABX9TyMeIIv7k0JlT7JqacbxgC/M",
      "include_colab_link": true
    },
    "kernelspec": {
      "name": "python3",
      "display_name": "Python 3"
    },
    "language_info": {
      "name": "python"
    }
  },
  "cells": [
    {
      "cell_type": "markdown",
      "metadata": {
        "id": "view-in-github",
        "colab_type": "text"
      },
      "source": [
        "<a href=\"https://colab.research.google.com/github/Zaheer-Aswath/DataScience-Python/blob/main/Edureka/mohammed_zaheer_day9_diy_solution_doc.ipynb\" target=\"_parent\"><img src=\"https://colab.research.google.com/assets/colab-badge.svg\" alt=\"Open In Colab\"/></a>"
      ]
    },
    {
      "cell_type": "markdown",
      "source": [
        "**Q1. Problem Statement: Understanding File Operations**\n",
        "\n",
        "Write a Python program that reads text from a poem.txt file (Provided on the LMS) in read-only mode and prints it line-by-line.\n",
        "\n",
        "**Input Format:** You do not need to read any input in this problem."
      ],
      "metadata": {
        "id": "yXqm2M0BIvrD"
      }
    },
    {
      "cell_type": "code",
      "source": [
        "# first upload file(poem) in google colab\n",
        "file = open('Poem.txt', 'r') # syntax for open file with read option\n",
        "data=file.readlines()   #store in variable data to read all lines\n",
        "file.close()  # closing the file after open to read\n",
        "for line in data: #using for loop for print the lines one by one\n",
        "  print(line, end=\"\")"
      ],
      "metadata": {
        "colab": {
          "base_uri": "https://localhost:8080/"
        },
        "id": "hbBXmeklI_rg",
        "outputId": "aafe762c-5af4-4352-a676-f7c1eb5814e0"
      },
      "execution_count": null,
      "outputs": [
        {
          "output_type": "stream",
          "name": "stdout",
          "text": [
            "Jack and Jill went up the hill\n",
            "To fetch a pail of water.\n",
            "Jack fell down and broke his crown,\n",
            "And Jill came tumbling after.\n",
            "Then up got Jack and said to Jill,\n",
            "As in his arms he took her,\n",
            "“Brush off that dirt for you’re not hurt,\n",
            "Let’s fetch that pail of water.”\n",
            "So Jack and Jill went up the hill\n",
            "To fetch the pail of water,\n",
            "And took it home to Mother dear,\n",
            "Who thanked her son and daughter.\n",
            "\n"
          ]
        }
      ]
    },
    {
      "cell_type": "code",
      "source": [
        "#Method - 2 for Question 1:\n",
        "file = open('Poem.txt', 'r') # syntax for open file with read option\n",
        "data=file.read()   #store in variable data to read all lines\n",
        "file.close()\n",
        "print(data)"
      ],
      "metadata": {
        "colab": {
          "base_uri": "https://localhost:8080/"
        },
        "id": "0r_5ujtuVqFp",
        "outputId": "488ab534-a999-4fc9-ca1b-307a7ab87847"
      },
      "execution_count": null,
      "outputs": [
        {
          "output_type": "stream",
          "name": "stdout",
          "text": [
            "Jack and Jill went up the hill\n",
            "To fetch a pail of water.\n",
            "Jack fell down and broke his crown,\n",
            "And Jill came tumbling after.\n",
            "Then up got Jack and said to Jill,\n",
            "As in his arms he took her,\n",
            "“Brush off that dirt for you’re not hurt,\n",
            "Let’s fetch that pail of water.”\n",
            "So Jack and Jill went up the hill\n",
            "To fetch the pail of water,\n",
            "And took it home to Mother dear,\n",
            "Who thanked her son and daughter.\n",
            "\n",
            "\n"
          ]
        }
      ]
    },
    {
      "cell_type": "markdown",
      "source": [
        "**Q2. Problem Statement: Modifying Text File using Python**\n",
        "\n",
        "Write a Python program that opens the poem.txt file (Provided on the LMS). Replace all the words in the poem, starting from “J” to “K,” and print the new version of the poem.\n",
        "\n",
        "**Input Format:** You do not need to read any input in this problem."
      ],
      "metadata": {
        "id": "rnY58Yf-RAay"
      }
    },
    {
      "cell_type": "code",
      "source": [
        "file = open('Poem.txt', 'r')\n",
        "#file2=open('NewPoem.txt','w')\n",
        "data=file.readlines()\n",
        "file.close()\n",
        "for line in data:\n",
        "  print(line.replace('J','K'),end=\"\")\n",
        "  #file2.write(line.replace('J','K'))\n",
        "  #print(line)\n",
        "#file2.close()"
      ],
      "metadata": {
        "colab": {
          "base_uri": "https://localhost:8080/"
        },
        "id": "jyj8foNkRcLh",
        "outputId": "857ac673-d246-4260-c4a8-8864476b3e47"
      },
      "execution_count": null,
      "outputs": [
        {
          "output_type": "stream",
          "name": "stdout",
          "text": [
            "Kack and Kill went up the hill\n",
            "To fetch a pail of water.\n",
            "Kack fell down and broke his crown,\n",
            "And Kill came tumbling after.\n",
            "Then up got Kack and said to Kill,\n",
            "As in his arms he took her,\n",
            "“Brush off that dirt for you’re not hurt,\n",
            "Let’s fetch that pail of water.”\n",
            "So Kack and Kill went up the hill\n",
            "To fetch the pail of water,\n",
            "And took it home to Mother dear,\n",
            "Who thanked her son and daughter.\n",
            "\n"
          ]
        }
      ]
    },
    {
      "cell_type": "code",
      "source": [
        "#Method - 2 for Question 2:\n",
        "file = open('Poem.txt', 'r') # syntax for open file with read option\n",
        "data=file.read()   #store in variable data to read all lines\n",
        "file.close()\n",
        "print(data.replace('J','K'))"
      ],
      "metadata": {
        "colab": {
          "base_uri": "https://localhost:8080/"
        },
        "id": "BrbaqISTV77o",
        "outputId": "b1b8e71a-4ec1-4299-fbd5-646d955137aa"
      },
      "execution_count": null,
      "outputs": [
        {
          "output_type": "stream",
          "name": "stdout",
          "text": [
            "Kack and Kill went up the hill\n",
            "To fetch a pail of water.\n",
            "Kack fell down and broke his crown,\n",
            "And Kill came tumbling after.\n",
            "Then up got Kack and said to Kill,\n",
            "As in his arms he took her,\n",
            "“Brush off that dirt for you’re not hurt,\n",
            "Let’s fetch that pail of water.”\n",
            "So Kack and Kill went up the hill\n",
            "To fetch the pail of water,\n",
            "And took it home to Mother dear,\n",
            "Who thanked her son and daughter.\n",
            "\n",
            "\n"
          ]
        }
      ]
    }
  ]
}
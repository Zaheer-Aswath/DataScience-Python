{
  "nbformat": 4,
  "nbformat_minor": 0,
  "metadata": {
    "colab": {
      "provenance": [],
      "authorship_tag": "ABX9TyNarR8A04+cbHeUeCI2fX9d",
      "include_colab_link": true
    },
    "kernelspec": {
      "name": "python3",
      "display_name": "Python 3"
    },
    "language_info": {
      "name": "python"
    }
  },
  "cells": [
    {
      "cell_type": "markdown",
      "metadata": {
        "id": "view-in-github",
        "colab_type": "text"
      },
      "source": [
        "<a href=\"https://colab.research.google.com/github/Zaheer-Aswath/DataScience-Python/blob/main/Edureka/mohammed_zaheer_day8_diy_solution_doc.ipynb\" target=\"_parent\"><img src=\"https://colab.research.google.com/assets/colab-badge.svg\" alt=\"Open In Colab\"/></a>"
      ]
    },
    {
      "cell_type": "markdown",
      "source": [
        "**Q1. Problem Statement: Understanding NumPy Array Functions - I**\n",
        "\n",
        "Define a NumPy array with 4 * 5 dimensions, and swap the array's dimensions to make it 5 * 4 using suitable functions.\n",
        "\n",
        "Input Format: You don't need to read any input in this problem."
      ],
      "metadata": {
        "id": "rN9wMY05E9Lg"
      }
    },
    {
      "cell_type": "code",
      "source": [
        "import numpy as np\n",
        "a = np.arange(0,20)\n",
        "b = a.reshape(4,5)\n",
        "c = b.T\n",
        "print(\"Original Array:\\n\",a)\n",
        "print(\"Reshaped Array:\\n\",b)\n",
        "print(\"Transposed Array:\\n\",c)"
      ],
      "metadata": {
        "colab": {
          "base_uri": "https://localhost:8080/"
        },
        "id": "zX45qDRkP-kW",
        "outputId": "f4cce15e-1a71-41b0-826e-7b25829c65ce"
      },
      "execution_count": null,
      "outputs": [
        {
          "output_type": "stream",
          "name": "stdout",
          "text": [
            "Original Array:\n",
            " [ 0  1  2  3  4  5  6  7  8  9 10 11 12 13 14 15 16 17 18 19]\n",
            "Reshaped Array:\n",
            " [[ 0  1  2  3  4]\n",
            " [ 5  6  7  8  9]\n",
            " [10 11 12 13 14]\n",
            " [15 16 17 18 19]]\n",
            "Transposed Array:\n",
            " [[ 0  5 10 15]\n",
            " [ 1  6 11 16]\n",
            " [ 2  7 12 17]\n",
            " [ 3  8 13 18]\n",
            " [ 4  9 14 19]]\n"
          ]
        }
      ]
    },
    {
      "cell_type": "markdown",
      "source": [
        "**Q2. Problem Statement: Understanding NumPy Array Functions - II**\n",
        "\n",
        "Write a Python program to create two 2-dimensional arrays and apply hstack(), vstack(), concatenate(), and split() functions to them to get the output as shown below.\n",
        "\n",
        "Input Format: You do not need to read any input in this problem."
      ],
      "metadata": {
        "id": "LJypD7NDR-dT"
      }
    },
    {
      "cell_type": "code",
      "source": [
        "import numpy as np\n",
        "d = np.array([[1,2],[3,4]])\n",
        "e = np.array([[6,7],[8,9]])\n",
        "f = np.hstack((d,e))\n",
        "g = np.vstack((d,e))\n",
        "h = np.concatenate((d,e), axis=0)\n",
        "i = np.split(f,2)\n",
        "print(\"First array is:\\n\",d)\n",
        "print(\"Second array is:\\n\",e)\n",
        "print(\"Applying hstack() function:\\n\",f)\n",
        "print(\"Applying vstack() function:\\n\",g)\n",
        "print(\"Applying concatenate() function:\\n\",h)\n",
        "print(\"Applying split() function:\\n\",i)"
      ],
      "metadata": {
        "colab": {
          "base_uri": "https://localhost:8080/"
        },
        "id": "7gVJrq7mSIJ7",
        "outputId": "c589ef66-ded3-4a2d-b77e-c7f23c093daa"
      },
      "execution_count": null,
      "outputs": [
        {
          "output_type": "stream",
          "name": "stdout",
          "text": [
            "First array is:\n",
            " [[1 2]\n",
            " [3 4]]\n",
            "Second array is:\n",
            " [[6 7]\n",
            " [8 9]]\n",
            "Applying hstack() function:\n",
            " [[1 2 6 7]\n",
            " [3 4 8 9]]\n",
            "Applying vstack() function:\n",
            " [[1 2]\n",
            " [3 4]\n",
            " [6 7]\n",
            " [8 9]]\n",
            "Applying concatenate() function:\n",
            " [[1 2]\n",
            " [3 4]\n",
            " [6 7]\n",
            " [8 9]]\n",
            "Applying split() function:\n",
            " [array([[1, 2, 6, 7]]), array([[3, 4, 8, 9]])]\n"
          ]
        }
      ]
    }
  ]
}
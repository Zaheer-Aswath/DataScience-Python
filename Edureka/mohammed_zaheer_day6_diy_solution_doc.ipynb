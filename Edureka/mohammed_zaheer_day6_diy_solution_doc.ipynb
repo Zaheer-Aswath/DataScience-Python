{
  "nbformat": 4,
  "nbformat_minor": 0,
  "metadata": {
    "colab": {
      "provenance": [],
      "authorship_tag": "ABX9TyNJ4zrNBiIC4+E/azG8hK0H",
      "include_colab_link": true
    },
    "kernelspec": {
      "name": "python3",
      "display_name": "Python 3"
    },
    "language_info": {
      "name": "python"
    }
  },
  "cells": [
    {
      "cell_type": "markdown",
      "metadata": {
        "id": "view-in-github",
        "colab_type": "text"
      },
      "source": [
        "<a href=\"https://colab.research.google.com/github/Zaheer-Aswath/DataScience-Python/blob/main/Edureka/mohammed_zaheer_day6_diy_solution_doc.ipynb\" target=\"_parent\"><img src=\"https://colab.research.google.com/assets/colab-badge.svg\" alt=\"Open In Colab\"/></a>"
      ]
    },
    {
      "cell_type": "markdown",
      "source": [
        "**Q-1:Problem Statement: Understanding NumPy Arrays:**\n",
        "\n",
        "**Write a Python program that prints odd numbers from 1 to 30 using the NumPy array. Also, print the data type of output.**"
      ],
      "metadata": {
        "id": "eYkrSUtj4CO1"
      }
    },
    {
      "cell_type": "code",
      "source": [
        "import numpy as np\n",
        "Odd = np.arange(1,30,2)\n",
        "print(Odd)\n",
        "type(Odd)"
      ],
      "metadata": {
        "id": "mrTCxmQr4OiC",
        "colab": {
          "base_uri": "https://localhost:8080/"
        },
        "outputId": "c6ce0a75-b527-46b5-cacc-1df67a140bcc"
      },
      "execution_count": null,
      "outputs": [
        {
          "output_type": "stream",
          "name": "stdout",
          "text": [
            "[ 1  3  5  7  9 11 13 15 17 19 21 23 25 27 29]\n"
          ]
        },
        {
          "output_type": "execute_result",
          "data": {
            "text/plain": [
              "numpy.ndarray"
            ]
          },
          "metadata": {},
          "execution_count": 45
        }
      ]
    },
    {
      "cell_type": "markdown",
      "source": [
        "**Q2. Problem Statement: Size Comparison**\n",
        "\n",
        "**Write a Python program to declare a list and NumPy arrays(1-D, 2-D, and 3-D) and compare the size of the list and the arrays. Also, compare the size of each element in the list and the arrays (in terms of memory occupancy).**"
      ],
      "metadata": {
        "id": "A6NYZtCv7Xw4"
      }
    },
    {
      "cell_type": "code",
      "source": [
        "import sys              #import sys is used to find the size of list in python\n",
        "import numpy as np      #import numpy is used when creating array\n",
        "a=[9,8,7,6,5,4,3,2,1,0] #declaring the list to find size of whole lists and size of each element in list\n",
        "print(\"Size of each element list in bytes:\",sys.getsizeof(a[0])) #sys.getsizeof is inbuilt function which is used to find size of element in list\n",
        "#(a[0]) is given to find size of each element in list in bytes\n",
        "print(\"Size of whole list in bytes:\",sys.getsizeof(a)) #(a) is given to find size of whole element in list in bytes\n",
        "b=10\n",
        "one_dimensional_array=np.random.rand(b) #creating 1-D array from b randomly\n",
        "#print(\"one dimensional array:\",one_dimensional_array) #for reference printed how 1-D array\n",
        "print(\"Size of each element of the array in bytes\",one_dimensional_array.itemsize)\n",
        "print(\"Size of each whole array in bytes\",one_dimensional_array.nbytes)\n",
        "two_dimensional_array=np.random.rand(b,2) #creating 2-D array from b randomly\n",
        "print(\"Size of each element of the array in bytes\",two_dimensional_array.itemsize)\n",
        "print(\"Size of each whole array in bytes\",two_dimensional_array.nbytes)\n",
        "#print(\"two dimensional array:\",two_dimensional_array) #for reference printed how 2-D array\n",
        "three_dimensional_array=np.random.rand(b,3)  #creating 3-D array from b randomly\n",
        "#print(\"three dimensional array:\",three_dimensional_array) #for reference printed how 3-D array\n",
        "print(\"Size of each element of the array in bytes\",three_dimensional_array.itemsize)\n",
        "print(\"Size of each whole array in bytes\",three_dimensional_array.nbytes)"
      ],
      "metadata": {
        "id": "KlwuM-It7gjq",
        "colab": {
          "base_uri": "https://localhost:8080/"
        },
        "outputId": "675ade43-40dd-4551-a417-6d56a40a0c82"
      },
      "execution_count": null,
      "outputs": [
        {
          "output_type": "stream",
          "name": "stdout",
          "text": [
            "Size of each element list in bytes: 28\n",
            "Size of whole list in bytes: 136\n",
            "Size of each element of the array in bytes 8\n",
            "Size of each whole array in bytes 80\n",
            "Size of each element of the array in bytes 8\n",
            "Size of each whole array in bytes 160\n",
            "Size of each element of the array in bytes 8\n",
            "Size of each whole array in bytes 240\n"
          ]
        }
      ]
    }
  ]
}